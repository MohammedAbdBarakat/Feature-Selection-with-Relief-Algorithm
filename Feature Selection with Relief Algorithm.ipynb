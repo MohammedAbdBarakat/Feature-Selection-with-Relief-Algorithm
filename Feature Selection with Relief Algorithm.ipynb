{
 "cells": [
  {
   "cell_type": "markdown",
   "metadata": {},
   "source": [
    "# Jaafar Aldoj / Mohammed Barakat / Mohammed Mlisan\n"
   ]
  },
  {
   "cell_type": "markdown",
   "metadata": {},
   "source": [
    "# Relief Algorithm "
   ]
  },
  {
   "cell_type": "code",
   "execution_count": 1,
   "metadata": {},
   "outputs": [],
   "source": [
    "import pandas as pd\n",
    "import numpy as np \n",
    "import math\n",
    "from sklearn.datasets import load_iris ,load_breast_cancer"
   ]
  },
  {
   "cell_type": "markdown",
   "metadata": {},
   "source": [
    "## helper functions"
   ]
  },
  {
   "cell_type": "code",
   "execution_count": 2,
   "metadata": {},
   "outputs": [],
   "source": [
    "# Calculating euclidean distance between two points \n",
    "def distance(point1, point2):\n",
    "    x = 0\n",
    "    for i in range(len(point1)):\n",
    "        x += (point2[i] - point1[i]) ** 2\n",
    "    \n",
    "    distance = math.sqrt(x)\n",
    "    return distance\n",
    "\n",
    "\n",
    "# Weight update function\n",
    "def weight(W,point, hit, miss):\n",
    "    temp_w = np.zeros(len(point))\n",
    "    for i in range(len(point)):\n",
    "        temp_w[i] = abs(point[i] - miss[i]) - abs(point[i] - hit[i])\n",
    "    for i in range(len(point)):\n",
    "        W[i] += temp_w[i]\n",
    "    return W"
   ]
  },
  {
   "cell_type": "markdown",
   "metadata": {},
   "source": [
    "##  Relief Algorithm Implementation"
   ]
  },
  {
   "cell_type": "code",
   "execution_count": 3,
   "metadata": {},
   "outputs": [],
   "source": [
    "def Relief_fit(data, target) :\n",
    "    x = data.shape[0]\n",
    "    y = data.shape[1]\n",
    "    w = np.zeros(y)\n",
    "    #Normalization\n",
    "    for j in range(y) :\n",
    "        max = -math.inf\n",
    "        min = math.inf\n",
    "        for i in range(x) :\n",
    "            if(data[i][j] < min):\n",
    "                min = data[i][j]\n",
    "            if(data[i][j] > max) :\n",
    "                max = data[i][j]\n",
    "        for i in range(x) :\n",
    "            data[i][j] = (data[i][j]-min)/(max-min)\n",
    "    \n",
    "    for i in range(x) :\n",
    "        hit = None\n",
    "        hit_d = math.inf \n",
    "        miss = None\n",
    "        miss_d = math.inf\n",
    "        #Hit and Miss\n",
    "        for k in range(x) :\n",
    "            if(i != k) :\n",
    "                d = distance(data[k],data[i])\n",
    "                if(target[i] == target[k]) :\n",
    "                    if(d < hit_d):\n",
    "                        hit = data[k]\n",
    "                        hit_d = d\n",
    "                else :\n",
    "                    if(d < miss_d):\n",
    "                        miss = data[k]\n",
    "                        miss_d = d\n",
    "        if(hit is None or miss is None) :\n",
    "            print(\"Hit or Miss have a None value this mean data isn't correct or can't be entered to a Relief algorithm\")\n",
    "            return W\n",
    "        #Calc new Weights\n",
    "        w = weight(w,data[i],hit,miss)\n",
    "    return w"
   ]
  },
  {
   "cell_type": "code",
   "execution_count": 4,
   "metadata": {},
   "outputs": [
    {
     "name": "stdout",
     "output_type": "stream",
     "text": [
      "iris\n",
      "data : (150, 4), target : (150,)\n",
      "breast cancer\n",
      "data : (569, 30), target : (569,)\n"
     ]
    }
   ],
   "source": [
    "iris = load_iris()\n",
    "iris_x = iris.data\n",
    "iris_y = iris.target\n",
    "print(f\"iris\\ndata : {iris_x.shape}, target : {iris_y.shape}\")\n",
    "\n",
    "brC = load_breast_cancer()\n",
    "brC_x = brC.data\n",
    "brC_y = brC.target\n",
    "print(f\"breast cancer\\ndata : {brC_x.shape}, target : {brC_y.shape}\")"
   ]
  },
  {
   "cell_type": "markdown",
   "metadata": {},
   "source": [
    "### Calculating Iris weights"
   ]
  },
  {
   "cell_type": "code",
   "execution_count": 5,
   "metadata": {
    "scrolled": true
   },
   "outputs": [
    {
     "name": "stdout",
     "output_type": "stream",
     "text": [
      "Feature Weights (Iris): [ 8.38888889 18.54166667 22.44067797 27.5       ]\n"
     ]
    }
   ],
   "source": [
    "iris_weights = Relief_fit(iris_x, iris_y)\n",
    "print(\"Feature Weights (Iris):\", iris_weights)\n"
   ]
  },
  {
   "cell_type": "markdown",
   "metadata": {},
   "source": [
    "### Calculating Breast Cancer weights"
   ]
  },
  {
   "cell_type": "code",
   "execution_count": 6,
   "metadata": {},
   "outputs": [
    {
     "name": "stdout",
     "output_type": "stream",
     "text": [
      "Feature Weights (Breast cancer): [33.2166217  26.30605343 33.37392025 30.50426299 15.30387289 11.96015582\n",
      " 27.01908154 39.87117296 15.12474747 10.86604886 20.34068441 16.85981701\n",
      " 15.77998398 16.37767418  6.53016963 10.46271067  5.22400707 11.72055314\n",
      " 15.13494118  6.79480536 45.3546069  38.12313433 42.04975347 35.91004719\n",
      " 22.54876841 14.80842332 18.71863099 48.06962199 13.1683422   5.65971402]\n"
     ]
    }
   ],
   "source": [
    "brC_weights = Relief_fit(brC_x, brC_y)\n",
    "print(\"Feature Weights (Breast cancer):\", brC_weights)"
   ]
  },
  {
   "cell_type": "markdown",
   "metadata": {},
   "source": [
    "## Visuals"
   ]
  },
  {
   "cell_type": "code",
   "execution_count": 7,
   "metadata": {},
   "outputs": [
    {
     "data": {
      "image/png": "[encoded data removed]",
      "text/plain": [
       "<Figure size 432x288 with 1 Axes>"
      ]
     },
     "metadata": {
      "needs_background": "light"
     },
     "output_type": "display_data"
    },
    {
     "data": {
      "image/png": "[encoded data removed]",
      "text/plain": [
       "<Figure size 432x288 with 1 Axes>"
      ]
     },
     "metadata": {
      "needs_background": "light"
     },
     "output_type": "display_data"
    }
   ],
   "source": [
    "import matplotlib.pyplot as plt\n",
    "plt.bar(range(len(iris_weights)), iris_weights)\n",
    "plt.xlabel('Feature Index')\n",
    "plt.ylabel('Weight')\n",
    "plt.title('Iris Features Weights')\n",
    "plt.show()\n",
    "\n",
    "\n",
    "plt.bar(range(len(brC_weights)), brC_weights)\n",
    "plt.xlabel('Feature Index')\n",
    "plt.ylabel('Weight')\n",
    "plt.title('Breast Cancer Features Weights')\n",
    "plt.show()\n",
    "\n"
   ]
  },
  {
   "cell_type": "markdown",
   "metadata": {},
   "source": [
    "## Deleting the least valuable features"
   ]
  },
  {
   "cell_type": "code",
   "execution_count": 8,
   "metadata": {},
   "outputs": [],
   "source": [
    "def deleteFeatures(data, weights, n_feature_del = 0):\n",
    "    if(n_feature_del > len(weights)-2) :\n",
    "        print(f\"Can't delete {n_feature_del} feature of {len(weights)}\")\n",
    "        return data\n",
    "    feature_del = []\n",
    "    for i in range(n_feature_del):\n",
    "        min_value = math.inf\n",
    "        min_ind = -1\n",
    "        for j in range(len(weights)):\n",
    "            if (weights[j] < min_value and j not in feature_del ):\n",
    "                min_ind = j\n",
    "                min_value = weights[j]\n",
    "        feature_del.append(min_ind) \n",
    "    data = np.delete(data,feature_del,axis=1)\n",
    "    return data"
   ]
  },
  {
   "cell_type": "code",
   "execution_count": 9,
   "metadata": {},
   "outputs": [
    {
     "name": "stdout",
     "output_type": "stream",
     "text": [
      "Old iris features:  (150, 4)\n",
      "Iris features after selection:  (150, 3)\n"
     ]
    }
   ],
   "source": [
    "print(\"Old iris features: \",iris_x.shape)\n",
    "new_features = deleteFeatures(iris_x,iris_weights,n_feature_del=1)\n",
    "print(\"Iris features after selection: \",new_features.shape)"
   ]
  },
  {
   "cell_type": "code",
   "execution_count": 10,
   "metadata": {},
   "outputs": [
    {
     "name": "stdout",
     "output_type": "stream",
     "text": [
      "Old breast cancer features:  (569, 30)\n",
      "Breast cancer features after selection:  (569, 25)\n"
     ]
    }
   ],
   "source": [
    "print(\"Old breast cancer features: \",brC_x.shape)\n",
    "new_features = deleteFeatures(brC_x,brC_weights,n_feature_del=5)\n",
    "print(\"Breast cancer features after selection: \",new_features.shape)"
   ]
  },
  {
   "cell_type": "code",
   "execution_count": null,
   "metadata": {},
   "outputs": [],
   "source": []
  }
 ],
 "metadata": {
  "kernelspec": {
   "display_name": "Python 3",
   "language": "python",
   "name": "python3"
  },
  "language_info": {
   "codemirror_mode": {
    "name": "ipython",
    "version": 3
   },
   "file_extension": ".py",
   "mimetype": "text/x-python",
   "name": "python",
   "nbconvert_exporter": "python",
   "pygments_lexer": "ipython3",
   "version": "3.8.5"
  }
 },
 "nbformat": 4,
 "nbformat_minor": 5
}
